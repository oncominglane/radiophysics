{
 "cells": [
  {
   "cell_type": "markdown",
   "metadata": {
    "id": "mwo2wila3Bga"
   },
   "source": [
    "# Примеры к лекции 7.  Дискретное преобразование Фурье (ДПФ).\n",
    "Лекции по курсу \"Дискретные преобразования сигналов\", 3 курс ФРКТ МФТИ "
   ]
  },
  {
   "cell_type": "code",
   "execution_count": 1,
   "metadata": {
    "executionInfo": {
     "elapsed": 687,
     "status": "ok",
     "timestamp": 1647875189044,
     "user": {
      "displayName": "Тимофей Алексеевич Тормагов",
      "photoUrl": "https://lh3.googleusercontent.com/a-/AOh14GiIGWKaiAr4uy-W-yWh9ZYv-gqUzL8qBBMURrVIog=s64",
      "userId": "14229529479566309348"
     },
     "user_tz": -180
    },
    "id": "yqE9z6923Bgg"
   },
   "outputs": [],
   "source": [
    "import numpy as np # импорт бибилиотеки numpy\n",
    "import matplotlib.pyplot as plt # импорт модуля matplotlib.pyplot\n",
    "from scipy import signal\n",
    "from scipy.linalg import dft"
   ]
  },
  {
   "cell_type": "code",
   "execution_count": 2,
   "metadata": {
    "id": "jLCrEYOu3Bgh"
   },
   "outputs": [],
   "source": [
    "# Если используете Jupyter, то можно поменять backend matplotlib на notebook\n",
    "# %matplotlib notebook\n",
    "# Для использования backend matplotlib widget, раскомментируйте строку ниже.\n",
    "# %matplotlib widget\n",
    "# Для использования backend matplotlib inline, раскомментируйте строку ниже.\n",
    "%matplotlib inline\n"
   ]
  },
  {
   "cell_type": "markdown",
   "metadata": {
    "id": "9WFvLzlE3Bgq"
   },
   "source": [
    "## Задание последовательности отсчетов"
   ]
  },
  {
   "cell_type": "markdown",
   "metadata": {
    "id": "YpYu_YqB3Bgq"
   },
   "source": [
    "Зададим последовательность из 10 единичных импульсов $w[k] = \\sum_{m=0}^{N-1} \\mathbf{1}[k-m]$"
   ]
  },
  {
   "cell_type": "code",
   "execution_count": 3,
   "metadata": {
    "colab": {
     "base_uri": "https://localhost:8080/"
    },
    "id": "M_It97973Bgq",
    "outputId": "83209c23-5949-412f-8026-b47c36ff92fd"
   },
   "outputs": [
    {
     "data": {
      "text/plain": [
       "array([1, 1, 1, 1, 1, 1, 1, 1, 1, 1])"
      ]
     },
     "execution_count": 3,
     "metadata": {},
     "output_type": "execute_result"
    }
   ],
   "source": [
    "w = np.array([1, 1, 1, 1, 1, 1, 1, 1, 1, 1])\n",
    "w"
   ]
  },
  {
   "cell_type": "markdown",
   "metadata": {
    "id": "B2b9HJZa3Bgr"
   },
   "source": [
    "Сделаем тоже самое с помощью функции `ones`"
   ]
  },
  {
   "cell_type": "code",
   "execution_count": 4,
   "metadata": {
    "colab": {
     "base_uri": "https://localhost:8080/"
    },
    "id": "6lJUIOly3Bgr",
    "outputId": "5035a099-5989-4ec9-d026-4a104d4a3881"
   },
   "outputs": [
    {
     "data": {
      "text/plain": [
       "array([1., 1., 1., 1., 1., 1., 1., 1., 1., 1.])"
      ]
     },
     "execution_count": 4,
     "metadata": {},
     "output_type": "execute_result"
    }
   ],
   "source": [
    "w1=np.ones(10)\n",
    "w1"
   ]
  },
  {
   "cell_type": "markdown",
   "metadata": {
    "id": "nBGmjmZv3Bgs"
   },
   "source": [
    "Выведем график последовательности $w[k] = \\sum_{m=0}^{N-1} \\mathbf{1}[k-m]$"
   ]
  },
  {
   "cell_type": "code",
   "execution_count": 5,
   "metadata": {
    "colab": {
     "base_uri": "https://localhost:8080/",
     "height": 280
    },
    "id": "p8mhep9X3Bgs",
    "outputId": "83c32203-1f7e-47e0-81c6-464913b76d75"
   },
   "outputs": [
    {
     "data": {
      "image/png": "[encoded data removed]",
      "text/plain": [
       "<Figure size 800x300 with 1 Axes>"
      ]
     },
     "metadata": {},
     "output_type": "display_data"
    }
   ],
   "source": [
    "N=len(w)\n",
    "k = np.arange(N)\n",
    "plt.figure(figsize=[8, 3])\n",
    "plt.stem(k, w)\n",
    "plt.title('Сигнал $w[k]$')\n",
    "plt.xlabel('$k$')\n",
    "plt.ylabel('$w[k]$')\n",
    "plt.tight_layout()"
   ]
  },
  {
   "cell_type": "markdown",
   "metadata": {
    "id": "1ZxryDLB3Bgw"
   },
   "source": [
    "Определим последовательность вида $y[k]=\\exp(j2\\pi \\nu_0 k) w[k]$"
   ]
  },
  {
   "cell_type": "code",
   "execution_count": 6,
   "metadata": {
    "colab": {
     "base_uri": "https://localhost:8080/"
    },
    "id": "2STIXPeb3Bgw",
    "outputId": "0cb865b9-40b4-470b-daf2-c169782137d1"
   },
   "outputs": [
    {
     "data": {
      "text/plain": [
       "array([ 1.0000000e+00+0.0000000e+00j,  6.1232340e-17+1.0000000e+00j,\n",
       "       -1.0000000e+00+1.2246468e-16j, -1.8369702e-16-1.0000000e+00j,\n",
       "        1.0000000e+00-2.4492936e-16j,  3.0616170e-16+1.0000000e+00j,\n",
       "       -1.0000000e+00+3.6739404e-16j, -4.2862638e-16-1.0000000e+00j,\n",
       "        1.0000000e+00-4.8985872e-16j,  5.5109106e-16+1.0000000e+00j])"
      ]
     },
     "execution_count": 6,
     "metadata": {},
     "output_type": "execute_result"
    }
   ],
   "source": [
    "k = np.arange(N)\n",
    "nu_0 = 0.25\n",
    "y=np.exp(1j*2*np.pi*nu_0*k)\n",
    "y"
   ]
  },
  {
   "cell_type": "markdown",
   "metadata": {
    "id": "RzcEq5mj3Bgx"
   },
   "source": [
    "Определим дискретную линейную свертку (Convolution) последовательности $w[k]$ c точно такой же последовательностью."
   ]
  },
  {
   "cell_type": "code",
   "execution_count": 7,
   "metadata": {
    "colab": {
     "base_uri": "https://localhost:8080/"
    },
    "id": "Q1HzRNw03Bgx",
    "outputId": "18d94cf6-0e94-4078-9079-ca8cddd575bf"
   },
   "outputs": [
    {
     "data": {
      "text/plain": [
       "array([ 1,  2,  3,  4,  5,  6,  7,  8,  9, 10,  9,  8,  7,  6,  5,  4,  3,\n",
       "        2,  1])"
      ]
     },
     "execution_count": 7,
     "metadata": {},
     "output_type": "execute_result"
    }
   ],
   "source": [
    "w2=signal.convolve(w, w)\n",
    "w2"
   ]
  },
  {
   "cell_type": "markdown",
   "metadata": {
    "id": "e00pTFiz3Bgx"
   },
   "source": [
    "Выведем график для такой последовательности:"
   ]
  },
  {
   "cell_type": "code",
   "execution_count": 8,
   "metadata": {
    "colab": {
     "base_uri": "https://localhost:8080/",
     "height": 280
    },
    "id": "ZqXhSY-o3Bgy",
    "outputId": "90aed236-53dc-49b6-9225-affebb1fced4"
   },
   "outputs": [
    {
     "data": {
      "image/png": "[encoded data removed]",
      "text/plain": [
       "<Figure size 800x300 with 1 Axes>"
      ]
     },
     "metadata": {},
     "output_type": "display_data"
    }
   ],
   "source": [
    "N=len(w2)\n",
    "k = np.arange(0, N)\n",
    "plt.figure(figsize=[8, 3])\n",
    "plt.stem(k, w2)\n",
    "plt.title('Сигнал $w_2[k]$')\n",
    "plt.xlabel('$k$')\n",
    "plt.ylabel('$w_2[k]$')\n",
    "plt.grid()\n",
    "plt.xticks(k) # установить деления шкалы абсцисс для каждого отсчета\n",
    "plt.tight_layout()"
   ]
  },
  {
   "cell_type": "markdown",
   "metadata": {
    "id": "71I1AftR3Bgy"
   },
   "source": [
    "Поэлементное умножение задается оператором `*`"
   ]
  },
  {
   "cell_type": "code",
   "execution_count": 9,
   "metadata": {
    "colab": {
     "base_uri": "https://localhost:8080/"
    },
    "id": "PwA9KGrd3Bgy",
    "outputId": "423cb923-ad34-41e0-e148-203b68bf90bc"
   },
   "outputs": [
    {
     "data": {
      "text/plain": [
       "array([  1,   4,   9,  16,  25,  36,  49,  64,  81, 100,  81,  64,  49,\n",
       "        36,  25,  16,   9,   4,   1])"
      ]
     },
     "execution_count": 9,
     "metadata": {},
     "output_type": "execute_result"
    }
   ],
   "source": [
    "w2*w2"
   ]
  },
  {
   "cell_type": "markdown",
   "metadata": {
    "id": "-TaPUIFn3Bg0"
   },
   "source": [
    "## Вычисление ДПФ"
   ]
  },
  {
   "cell_type": "markdown",
   "metadata": {
    "id": "1ZrIMDoF3Bg1"
   },
   "source": [
    "Вычислим ДПФ $N$-точечной последовательности"
   ]
  },
  {
   "cell_type": "markdown",
   "metadata": {
    "id": "VOqjzRPG3Bg1"
   },
   "source": [
    "$$x[k]=\\sin \\left(2\\pi \\frac{2}{N}k\\right)+\\cos \\left(2\\pi \\frac{3}{N}k\\right),\\;\\;k=0,1,\\dots ,N-1,\\;\\;N=8.$$"
   ]
  },
  {
   "cell_type": "markdown",
   "metadata": {
    "id": "w52uH1Cy3Bg1"
   },
   "source": [
    "Формула прямого ДПФ в данном случае без нормирующего множителя $1/N$:\n",
    "$$X[n]=\\sum_{k=0}^{N-1} x[k]\\exp \\left(-j2\\pi \\frac{nk}{N}\\right)$$\n",
    "Сначала воспользуемся матричной формой ДПФ. Функция `scipy.linalg.dft(N)` возвращает матрицу ДПФ $[W]_N$ размера $N\\times N$. \n"
   ]
  },
  {
   "cell_type": "code",
   "execution_count": 10,
   "metadata": {
    "colab": {
     "base_uri": "https://localhost:8080/"
    },
    "executionInfo": {
     "elapsed": 309,
     "status": "ok",
     "timestamp": 1647269868307,
     "user": {
      "displayName": "Тимофей Алексеевич Тормагов",
      "photoUrl": "https://lh3.googleusercontent.com/a-/AOh14GiIGWKaiAr4uy-W-yWh9ZYv-gqUzL8qBBMURrVIog=s64",
      "userId": "14229529479566309348"
     },
     "user_tz": -180
    },
    "id": "q2EtNf1p3Bg1",
    "outputId": "945310c4-4299-45f4-a8b4-6442829215af"
   },
   "outputs": [
    {
     "data": {
      "image/png": "[encoded data removed]",
      "text/plain": [
       "<Figure size 800x300 with 1 Axes>"
      ]
     },
     "metadata": {},
     "output_type": "display_data"
    }
   ],
   "source": [
    "N=8\n",
    "k=np.arange(N)\n",
    "x=np.sin(2*np.pi*2/N*k)+np.cos(2*np.pi*3/N*k)\n",
    "\n",
    "plt.figure(figsize=[8, 3])\n",
    "plt.stem(k, x)\n",
    "plt.title('Сигнал $x[k]$')\n",
    "plt.xlabel('$k$')\n",
    "plt.ylabel('$x[k]$')\n",
    "plt.tight_layout()"
   ]
  },
  {
   "cell_type": "code",
   "execution_count": 11,
   "metadata": {
    "colab": {
     "base_uri": "https://localhost:8080/"
    },
    "executionInfo": {
     "elapsed": 309,
     "status": "ok",
     "timestamp": 1647269868307,
     "user": {
      "displayName": "Тимофей Алексеевич Тормагов",
      "photoUrl": "https://lh3.googleusercontent.com/a-/AOh14GiIGWKaiAr4uy-W-yWh9ZYv-gqUzL8qBBMURrVIog=s64",
      "userId": "14229529479566309348"
     },
     "user_tz": -180
    },
    "id": "q2EtNf1p3Bg1",
    "outputId": "945310c4-4299-45f4-a8b4-6442829215af"
   },
   "outputs": [
    {
     "data": {
      "text/plain": [
       "array([ 0.00000000e+00+0.00000000e+00j,  0.00000000e+00+0.00000000e+00j,\n",
       "        1.13832009e-16-4.00000000e+00j,  4.00000000e+00+2.22044605e-16j,\n",
       "        1.33226763e-15+7.88860905e-31j,  4.00000000e+00+4.66293670e-15j,\n",
       "       -5.01463715e-15+4.00000000e+00j,  0.00000000e+00-2.66453526e-15j])"
      ]
     },
     "execution_count": 11,
     "metadata": {},
     "output_type": "execute_result"
    }
   ],
   "source": [
    "W8 = dft(N)\n",
    "Xn = W8 @ x\n",
    "Xn"
   ]
  },
  {
   "cell_type": "code",
   "execution_count": null,
   "metadata": {},
   "outputs": [],
   "source": []
  },
  {
   "cell_type": "markdown",
   "metadata": {
    "id": "OxAuRuyJ3Bg2"
   },
   "source": [
    "Построим графики. "
   ]
  },
  {
   "cell_type": "code",
   "execution_count": 12,
   "metadata": {
    "colab": {
     "base_uri": "https://localhost:8080/",
     "height": 459
    },
    "executionInfo": {
     "elapsed": 960,
     "status": "ok",
     "timestamp": 1647269872018,
     "user": {
      "displayName": "Тимофей Алексеевич Тормагов",
      "photoUrl": "https://lh3.googleusercontent.com/a-/AOh14GiIGWKaiAr4uy-W-yWh9ZYv-gqUzL8qBBMURrVIog=s64",
      "userId": "14229529479566309348"
     },
     "user_tz": -180
    },
    "id": "-zFCtOGX3Bg2",
    "outputId": "f04e858b-3668-49d1-a2cc-c613995b5cfe"
   },
   "outputs": [
    {
     "data": {
      "image/png": "[encoded data removed]",
      "text/plain": [
       "<Figure size 800x500 with 2 Axes>"
      ]
     },
     "metadata": {},
     "output_type": "display_data"
    }
   ],
   "source": [
    "plt.figure(figsize=[8, 5])\n",
    "\n",
    "n=np.arange(N)\n",
    "plt.subplot(2, 1, 1)\n",
    "plt.stem(n, Xn.real)\n",
    "plt.xticks(n)\n",
    "plt.title('ДПФ сигнала $w[k]$')\n",
    "plt.xlabel('$n$')\n",
    "plt.ylabel('Re $X[n]$')\n",
    "plt.grid()\n",
    "\n",
    "plt.subplot(2, 1, 2)\n",
    "plt.stem(n, Xn.imag)\n",
    "plt.xticks(n)\n",
    "plt.xlabel('$n$')\n",
    "plt.ylabel('Im $X[n]$')\n",
    "\n",
    "plt.grid()\n",
    "plt.tight_layout()"
   ]
  },
  {
   "cell_type": "markdown",
   "metadata": {
    "id": "0_d88Kxw3Bg2"
   },
   "source": [
    "Теперь проведем вычисление ДПФ по алгоритму быстрого преобразования Фурье (БПФ). Для этого воспользуемся функцией `np.fft.fft()`.\n"
   ]
  },
  {
   "cell_type": "code",
   "execution_count": 13,
   "metadata": {
    "colab": {
     "base_uri": "https://localhost:8080/"
    },
    "id": "USmXzhFN3Bg2",
    "outputId": "71243a2b-83e9-41d4-c79d-b5e6c0f28f51"
   },
   "outputs": [
    {
     "data": {
      "text/plain": [
       "array([-3.09256603e-17+0.00000000e+00j,  4.44089210e-16+9.15390196e-17j,\n",
       "       -1.07929736e-15-4.00000000e+00j,  4.00000000e+00-1.86789586e-15j,\n",
       "        1.30134197e-15+0.00000000e+00j,  4.00000000e+00+1.86789586e-15j,\n",
       "       -1.07929736e-15+4.00000000e+00j,  4.44089210e-16-9.15390196e-17j])"
      ]
     },
     "execution_count": 13,
     "metadata": {},
     "output_type": "execute_result"
    }
   ],
   "source": [
    "Xn1=np.fft.fft(x)\n",
    "Xn1"
   ]
  },
  {
   "cell_type": "markdown",
   "metadata": {
    "id": "r2wZNTX-3Bg3"
   },
   "source": [
    "Сравним результаты."
   ]
  },
  {
   "cell_type": "code",
   "execution_count": 14,
   "metadata": {
    "colab": {
     "base_uri": "https://localhost:8080/"
    },
    "id": "lkg9J9K33Bg3",
    "outputId": "f3e13ab1-d2d8-4570-d6e3-b940cb707b6c"
   },
   "outputs": [
    {
     "data": {
      "text/plain": [
       "4.034322756779725e-15"
      ]
     },
     "execution_count": 14,
     "metadata": {},
     "output_type": "execute_result"
    }
   ],
   "source": [
    "max(abs(Xn1-Xn))"
   ]
  },
  {
   "cell_type": "markdown",
   "metadata": {
    "id": "22HfpoOg3Bg3"
   },
   "source": [
    "## Вычисление обратного ДПФ\n"
   ]
  },
  {
   "cell_type": "markdown",
   "metadata": {
    "id": "NpC6IsWy3Bg4"
   },
   "source": [
    "Матрица обратного ДПФ может быть найдена как обратная матрица для $[W]_N$."
   ]
  },
  {
   "cell_type": "code",
   "execution_count": 15,
   "metadata": {
    "id": "VwUpj1F93Bg4"
   },
   "outputs": [],
   "source": [
    "W8_inv1 = np.linalg.inv(W8)"
   ]
  },
  {
   "cell_type": "markdown",
   "metadata": {
    "id": "T9fLL6Jz3Bg4"
   },
   "source": [
    "Также ее можно получить с помощью транспонирования и комплексного сопряжения (эрмитова сопряжения) c дополнительной нормировкой на $N$, в силу того, что $[W]_N^{-1} =\\frac{1}{N}{\\left([W]_N^T \\right)}^* =\\frac{1}{N}[W]_N^*$. \n"
   ]
  },
  {
   "cell_type": "code",
   "execution_count": 16,
   "metadata": {
    "id": "QhUF0P-S3Bg4"
   },
   "outputs": [],
   "source": [
    "W8_inv2 = np.conjugate(W8) / N"
   ]
  },
  {
   "cell_type": "markdown",
   "metadata": {
    "id": "ZTGjx61p3Bg4"
   },
   "source": [
    "Вычислим обратное ДПФ, используя матричную форму. Сравним результат с исходной последовательностью. \n"
   ]
  },
  {
   "cell_type": "code",
   "execution_count": 17,
   "metadata": {
    "colab": {
     "base_uri": "https://localhost:8080/"
    },
    "id": "UZrdHiqy3Bg5",
    "outputId": "99bf2472-f370-4fd3-9824-98d9d06ec18d"
   },
   "outputs": [
    {
     "data": {
      "text/plain": [
       "7.901860134932568e-16"
      ]
     },
     "execution_count": 17,
     "metadata": {},
     "output_type": "execute_result"
    }
   ],
   "source": [
    "x1 = W8_inv1 @ Xn\n",
    "max(abs(x1-x))"
   ]
  },
  {
   "cell_type": "markdown",
   "metadata": {
    "id": "su0NPeUL3Bg5"
   },
   "source": [
    "Выполним те же вычисления с использованием алгоритма БПФ. Для этого нам понадобится функция `np.fft.ifft()`"
   ]
  },
  {
   "cell_type": "code",
   "execution_count": 18,
   "metadata": {
    "colab": {
     "base_uri": "https://localhost:8080/"
    },
    "id": "RQyuG-363Bg5",
    "outputId": "28762bb5-0c62-4ae9-a4fe-0d8c0f9add8a"
   },
   "outputs": [
    {
     "data": {
      "text/plain": [
       "1.4861185472553567e-15"
      ]
     },
     "execution_count": 18,
     "metadata": {},
     "output_type": "execute_result"
    }
   ],
   "source": [
    "x2=np.fft.ifft(Xn)\n",
    "max(abs(x2-x))"
   ]
  },
  {
   "cell_type": "code",
   "execution_count": null,
   "metadata": {},
   "outputs": [],
   "source": []
  },
  {
   "cell_type": "markdown",
   "metadata": {},
   "source": [
    "## Симметрия ДПФ для действительных последовательностей"
   ]
  },
  {
   "cell_type": "code",
   "execution_count": 23,
   "metadata": {},
   "outputs": [],
   "source": [
    "N=64\n",
    "x = np.random.rand(N)-0.5\n",
    "Xn=np.fft.fft(x)"
   ]
  },
  {
   "cell_type": "code",
   "execution_count": 24,
   "metadata": {},
   "outputs": [
    {
     "data": {
      "image/png": "[encoded data removed]",
      "text/plain": [
       "<Figure size 800x900 with 4 Axes>"
      ]
     },
     "metadata": {},
     "output_type": "display_data"
    }
   ],
   "source": [
    "plt.figure(figsize=[8, 9])\n",
    "\n",
    "n=np.arange(N)\n",
    "n1=np.arange(N+1)\n",
    "plt.subplot(4, 1, 1)\n",
    "plt.stem(n, Xn.real)\n",
    "plt.xticks(n1[::4])\n",
    "plt.title('ДПФ сигнала $w[k]$')\n",
    "plt.xlabel('$n$')\n",
    "plt.ylabel('Re $X[n]$')\n",
    "plt.grid()\n",
    "\n",
    "plt.subplot(4, 1, 2)\n",
    "plt.stem(n, Xn.imag)\n",
    "plt.xticks(n1[::4])\n",
    "plt.xlabel('$n$')\n",
    "plt.ylabel('Im $X[n]$')\n",
    "\n",
    "plt.subplot(4, 1, 3)\n",
    "plt.stem(n, abs(Xn))\n",
    "plt.xticks(n1[::4])\n",
    "plt.xlabel('$n$')\n",
    "plt.ylabel('$|X[n]|$')\n",
    "plt.grid()\n",
    "\n",
    "plt.subplot(4, 1, 4)\n",
    "plt.stem(n, Xn.imag)\n",
    "plt.xticks(n1[::4])\n",
    "plt.xlabel('$n$')\n",
    "plt.ylabel('$\\\\varphi[n]$, рад')\n",
    "plt.yticks([-np.pi, -np.pi/2, 0, np.pi/2, np.pi], labels=(\"$-\\\\pi$\", \"$-\\\\pi/2$\", \"$0$\", \"$\\\\pi/2$\", \"$\\\\pi$\"))\n",
    "\n",
    "plt.grid()\n",
    "plt.tight_layout()"
   ]
  },
  {
   "cell_type": "code",
   "execution_count": null,
   "metadata": {},
   "outputs": [],
   "source": []
  }
 ],
 "metadata": {
  "colab": {
   "collapsed_sections": [],
   "name": "Lab2_task.ipynb",
   "provenance": [],
   "toc_visible": true
  },
  "kernelspec": {
   "display_name": "Python 3 (ipykernel)",
   "language": "python",
   "name": "python3"
  },
  "language_info": {
   "codemirror_mode": {
    "name": "ipython",
    "version": 3
   },
   "file_extension": ".py",
   "mimetype": "text/x-python",
   "name": "python",
   "nbconvert_exporter": "python",
   "pygments_lexer": "ipython3",
   "version": "3.11.4"
  }
 },
 "nbformat": 4,
 "nbformat_minor": 1
}
